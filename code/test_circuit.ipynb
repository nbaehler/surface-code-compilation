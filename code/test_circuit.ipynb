{
 "cells": [
  {
   "cell_type": "code",
   "execution_count": 1,
   "metadata": {
    "jupyter": {
     "outputs_hidden": false,
     "source_hidden": false
    },
    "nteract": {
     "transient": {
      "deleting": false
     }
    }
   },
   "outputs": [
    {
     "name": "stdout",
     "output_type": "stream",
     "text": [
      "Preparing Q# environment...\n",
      ".."
     ]
    }
   ],
   "source": [
    "from azure.quantum import Workspace\n",
    "\n",
    "workspace = Workspace(\n",
    "    subscription_id=\"312accb8-b014-4311-ba0d-0ecef38c0639\",\n",
    "    resource_group=\"azurequantum\",\n",
    "    name=\"epflsemesterproject\",\n",
    "    location=\"westeurope\",\n",
    ")\n",
    "import qsharp\n",
    "\n",
    "from Circuits import testCircuit\n",
    "\n",
    "# %who\n",
    "# print(qsharp.get_available_operations())\n"
   ]
  },
  {
   "cell_type": "code",
   "execution_count": 2,
   "metadata": {
    "jupyter": {
     "outputs_hidden": false,
     "source_hidden": false
    },
    "nteract": {
     "transient": {
      "deleting": false
     }
    }
   },
   "outputs": [
    {
     "name": "stdout",
     "output_type": "stream",
     "text": [
      "; ModuleID = '/tmp/tmpXsT3HB.bc'\n",
      "\n",
      "%Qubit = type opaque\n",
      "%Array = type opaque\n",
      "%Tuple = type opaque\n",
      "%String = type opaque\n",
      "\n",
      "@0 = internal constant [3 x i8] c\"()\\00\"\n",
      "\n",
      "define internal void @ENTRYPOINT__testCircuit__body() {\n",
      "entry:\n",
      "  call void @Circuits__testCircuit__body()\n",
      "  ret void\n",
      "}\n",
      "\n",
      "define internal void @Circuits__testCircuit__body() {\n",
      "entry:\n",
      "  %qctl = call %Qubit* @__quantum__rt__qubit_allocate()\n",
      "  %qtgt = call %Qubit* @__quantum__rt__qubit_allocate()\n",
      "  call void @Microsoft__Quantum__Intrinsic__CNOT__body(%Qubit* %qctl, %Qubit* %qtgt)\n",
      "  call void @Microsoft__Quantum__Intrinsic__CNOT__body(%Qubit* %qctl, %Qubit* %qtgt)\n",
      "  call void @__quantum__rt__qubit_release(%Qubit* %qtgt)\n",
      "  call void @__quantum__rt__qubit_release(%Qubit* %qctl)\n",
      "  ret void\n",
      "}\n",
      "\n",
      "declare %Qubit* @__quantum__rt__qubit_allocate()\n",
      "\n",
      "declare %Array* @__quantum__rt__qubit_allocate_array(i64)\n",
      "\n",
      "declare void @__quantum__rt__qubit_release(%Qubit*)\n",
      "\n",
      "define internal void @Microsoft__Quantum__Intrinsic__CNOT__body(%Qubit* %control, %Qubit* %target) {\n",
      "entry:\n",
      "  %__controlQubits__ = call %Array* @__quantum__rt__array_create_1d(i32 8, i64 1)\n",
      "  %0 = call i8* @__quantum__rt__array_get_element_ptr_1d(%Array* %__controlQubits__, i64 0)\n",
      "  %1 = bitcast i8* %0 to %Qubit**\n",
      "  store %Qubit* %control, %Qubit** %1, align 8\n",
      "  call void @__quantum__rt__array_update_alias_count(%Array* %__controlQubits__, i32 1)\n",
      "  call void @__quantum__qis__x__ctl(%Array* %__controlQubits__, %Qubit* %target)\n",
      "  call void @__quantum__rt__array_update_alias_count(%Array* %__controlQubits__, i32 -1)\n",
      "  call void @__quantum__rt__array_update_reference_count(%Array* %__controlQubits__, i32 -1)\n",
      "  ret void\n",
      "}\n",
      "\n",
      "declare %Array* @__quantum__rt__array_create_1d(i32, i64)\n",
      "\n",
      "declare i8* @__quantum__rt__array_get_element_ptr_1d(%Array*, i64)\n",
      "\n",
      "declare void @__quantum__rt__array_update_alias_count(%Array*, i32)\n",
      "\n",
      "declare void @__quantum__qis__x__ctl(%Array*, %Qubit*)\n",
      "\n",
      "declare void @__quantum__rt__array_update_reference_count(%Array*, i32)\n",
      "\n",
      "define internal void @Microsoft__Quantum__Intrinsic__CNOT__adj(%Qubit* %control, %Qubit* %target) {\n",
      "entry:\n",
      "  call void @Microsoft__Quantum__Intrinsic__CNOT__body(%Qubit* %control, %Qubit* %target)\n",
      "  ret void\n",
      "}\n",
      "\n",
      "define internal void @Microsoft__Quantum__Intrinsic__CNOT__ctl(%Array* %__controlQubits__, { %Qubit*, %Qubit* }* %0) {\n",
      "entry:\n",
      "  call void @__quantum__rt__array_update_alias_count(%Array* %__controlQubits__, i32 1)\n",
      "  %1 = getelementptr inbounds { %Qubit*, %Qubit* }, { %Qubit*, %Qubit* }* %0, i32 0, i32 0\n",
      "  %control = load %Qubit*, %Qubit** %1, align 8\n",
      "  %2 = getelementptr inbounds { %Qubit*, %Qubit* }, { %Qubit*, %Qubit* }* %0, i32 0, i32 1\n",
      "  %target = load %Qubit*, %Qubit** %2, align 8\n",
      "  %3 = call %Array* @__quantum__rt__array_create_1d(i32 8, i64 1)\n",
      "  %4 = call i8* @__quantum__rt__array_get_element_ptr_1d(%Array* %3, i64 0)\n",
      "  %5 = bitcast i8* %4 to %Qubit**\n",
      "  store %Qubit* %control, %Qubit** %5, align 8\n",
      "  %__controlQubits__1 = call %Array* @__quantum__rt__array_concatenate(%Array* %__controlQubits__, %Array* %3)\n",
      "  call void @__quantum__rt__array_update_reference_count(%Array* %__controlQubits__1, i32 1)\n",
      "  call void @__quantum__rt__array_update_alias_count(%Array* %__controlQubits__1, i32 1)\n",
      "  call void @__quantum__qis__x__ctl(%Array* %__controlQubits__1, %Qubit* %target)\n",
      "  call void @__quantum__rt__array_update_alias_count(%Array* %__controlQubits__1, i32 -1)\n",
      "  call void @__quantum__rt__array_update_reference_count(%Array* %3, i32 -1)\n",
      "  call void @__quantum__rt__array_update_reference_count(%Array* %__controlQubits__1, i32 -1)\n",
      "  call void @__quantum__rt__array_update_reference_count(%Array* %__controlQubits__1, i32 -1)\n",
      "  call void @__quantum__rt__array_update_alias_count(%Array* %__controlQubits__, i32 -1)\n",
      "  ret void\n",
      "}\n",
      "\n",
      "declare %Array* @__quantum__rt__array_concatenate(%Array*, %Array*)\n",
      "\n",
      "define internal void @Microsoft__Quantum__Intrinsic__CNOT__ctladj(%Array* %__controlQubits__, { %Qubit*, %Qubit* }* %0) {\n",
      "entry:\n",
      "  call void @__quantum__rt__array_update_alias_count(%Array* %__controlQubits__, i32 1)\n",
      "  %1 = getelementptr inbounds { %Qubit*, %Qubit* }, { %Qubit*, %Qubit* }* %0, i32 0, i32 0\n",
      "  %control = load %Qubit*, %Qubit** %1, align 8\n",
      "  %2 = getelementptr inbounds { %Qubit*, %Qubit* }, { %Qubit*, %Qubit* }* %0, i32 0, i32 1\n",
      "  %target = load %Qubit*, %Qubit** %2, align 8\n",
      "  %3 = call %Tuple* @__quantum__rt__tuple_create(i64 ptrtoint ({ %Qubit*, %Qubit* }* getelementptr ({ %Qubit*, %Qubit* }, { %Qubit*, %Qubit* }* null, i32 1) to i64))\n",
      "  %4 = bitcast %Tuple* %3 to { %Qubit*, %Qubit* }*\n",
      "  %5 = getelementptr inbounds { %Qubit*, %Qubit* }, { %Qubit*, %Qubit* }* %4, i32 0, i32 0\n",
      "  %6 = getelementptr inbounds { %Qubit*, %Qubit* }, { %Qubit*, %Qubit* }* %4, i32 0, i32 1\n",
      "  store %Qubit* %control, %Qubit** %5, align 8\n",
      "  store %Qubit* %target, %Qubit** %6, align 8\n",
      "  call void @Microsoft__Quantum__Intrinsic__CNOT__ctl(%Array* %__controlQubits__, { %Qubit*, %Qubit* }* %4)\n",
      "  call void @__quantum__rt__array_update_alias_count(%Array* %__controlQubits__, i32 -1)\n",
      "  call void @__quantum__rt__tuple_update_reference_count(%Tuple* %3, i32 -1)\n",
      "  ret void\n",
      "}\n",
      "\n",
      "declare %Tuple* @__quantum__rt__tuple_create(i64)\n",
      "\n",
      "declare void @__quantum__rt__tuple_update_reference_count(%Tuple*, i32)\n",
      "\n",
      "define internal void @Microsoft__Quantum__Intrinsic__X__body(%Qubit* %qubit) {\n",
      "entry:\n",
      "  call void @__quantum__qis__x__body(%Qubit* %qubit)\n",
      "  ret void\n",
      "}\n",
      "\n",
      "declare void @__quantum__qis__x__body(%Qubit*)\n",
      "\n",
      "define internal void @Microsoft__Quantum__Intrinsic__X__adj(%Qubit* %qubit) {\n",
      "entry:\n",
      "  call void @__quantum__qis__x__body(%Qubit* %qubit)\n",
      "  ret void\n",
      "}\n",
      "\n",
      "define internal void @Microsoft__Quantum__Intrinsic__X__ctl(%Array* %__controlQubits__, %Qubit* %qubit) {\n",
      "entry:\n",
      "  call void @__quantum__rt__array_update_alias_count(%Array* %__controlQubits__, i32 1)\n",
      "  call void @__quantum__qis__x__ctl(%Array* %__controlQubits__, %Qubit* %qubit)\n",
      "  call void @__quantum__rt__array_update_alias_count(%Array* %__controlQubits__, i32 -1)\n",
      "  ret void\n",
      "}\n",
      "\n",
      "define internal void @Microsoft__Quantum__Intrinsic__X__ctladj(%Array* %__controlQubits__, %Qubit* %qubit) {\n",
      "entry:\n",
      "  call void @__quantum__rt__array_update_alias_count(%Array* %__controlQubits__, i32 1)\n",
      "  call void @__quantum__qis__x__ctl(%Array* %__controlQubits__, %Qubit* %qubit)\n",
      "  call void @__quantum__rt__array_update_alias_count(%Array* %__controlQubits__, i32 -1)\n",
      "  ret void\n",
      "}\n",
      "\n",
      "define void @ENTRYPOINT__testCircuit__Interop() #0 {\n",
      "entry:\n",
      "  call void @ENTRYPOINT__testCircuit__body()\n",
      "  ret void\n",
      "}\n",
      "\n",
      "define void @ENTRYPOINT__testCircuit() #1 {\n",
      "entry:\n",
      "  call void @ENTRYPOINT__testCircuit__body()\n",
      "  %0 = call %String* @__quantum__rt__string_create(i8* getelementptr inbounds ([3 x i8], [3 x i8]* @0, i32 0, i32 0))\n",
      "  call void @__quantum__rt__message(%String* %0)\n",
      "  call void @__quantum__rt__string_update_reference_count(%String* %0, i32 -1)\n",
      "  ret void\n",
      "}\n",
      "\n",
      "declare void @__quantum__rt__message(%String*)\n",
      "\n",
      "declare %String* @__quantum__rt__string_create(i8*)\n",
      "\n",
      "declare void @__quantum__rt__string_update_reference_count(%String*, i32)\n",
      "\n",
      "attributes #0 = { \"InteropFriendly\" }\n",
      "attributes #1 = { \"EntryPoint\" }\n",
      "\n"
     ]
    }
   ],
   "source": [
    "print(testCircuit.as_qir())\n"
   ]
  }
 ],
 "metadata": {
  "kernel_info": {
   "name": "python3"
  },
  "kernelspec": {
   "display_name": "Python 3.10.4 ('surface-code-compilation')",
   "language": "python",
   "name": "python3"
  },
  "language_info": {
   "codemirror_mode": {
    "name": "ipython",
    "version": 3
   },
   "file_extension": ".py",
   "mimetype": "text/x-python",
   "name": "python",
   "nbconvert_exporter": "python",
   "pygments_lexer": "ipython3",
   "version": "3.10.4"
  },
  "nteract": {
   "version": "nteract-front-end@1.0.0"
  },
  "vscode": {
   "interpreter": {
    "hash": "ae8fe90447f951190326a9e9d47ad1b31b94624f8583b0c5b19f66e1a4abd848"
   }
  }
 },
 "nbformat": 4,
 "nbformat_minor": 1
}
