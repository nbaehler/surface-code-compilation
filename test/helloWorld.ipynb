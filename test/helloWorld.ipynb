{
  "cells": [
    {
      "cell_type": "code",
      "execution_count": 9,
      "metadata": {
        "jupyter": {
          "outputs_hidden": false,
          "source_hidden": false
        },
        "nteract": {
          "transient": {
            "deleting": false
          }
        }
      },
      "outputs": [],
      "source": [
        "import qsharp\n"
      ]
    },
    {
      "cell_type": "code",
      "execution_count": 10,
      "metadata": {
        "jupyter": {
          "outputs_hidden": false,
          "source_hidden": false
        },
        "microsoft": {
          "language": "qsharp"
        },
        "nteract": {
          "transient": {
            "deleting": false
          }
        }
      },
      "outputs": [],
      "source": [
        "%%qsharp\n",
        "\n",
        "open Microsoft.Quantum.Diagnostics;\n",
        "open Microsoft.Quantum.Measurement;\n",
        "\n",
        "internal operation PrepareX(qubit : Qubit) : Unit {\n",
        "    AssertAllZero([qubit]);\n",
        "    H(qubit);\n",
        "}\n",
        "\n",
        "internal operation PrepareZ(qubit : Qubit) : Unit {\n",
        "    AssertAllZero([qubit]);\n",
        "}\n",
        "\n",
        "internal operation MeasureZ (qubit : Qubit) : Result {\n",
        "    return MResetZ(qubit);\n",
        "}\n",
        "\n",
        "internal operation MeasureX (qubit : Qubit) : Result {\n",
        "    return MResetX(qubit);\n",
        "}\n",
        "\n",
        "internal operation MeasureZZ (qubit1 : Qubit, qubit2 : Qubit) : Result {\n",
        "    return Measure([PauliZ, PauliZ], [qubit1, qubit2]);\n",
        "}\n",
        "\n",
        "internal operation MeasureXX (qubit1 : Qubit, qubit2 : Qubit) : Result {\n",
        "    return Measure([PauliX, PauliX], [qubit1, qubit2]);\n",
        "}\n",
        "\n",
        "operation LocalCnot(ctl : Qubit, tgt : Qubit, hlp : Qubit): Unit {\n",
        "    PrepareX(hlp);\n",
        "\n",
        "    let a = MeasureZZ(ctl, hlp);\n",
        "    let b = MeasureXX(hlp, tgt);\n",
        "    let c = MeasureZ(hlp);\n",
        "\n",
        "    if b == One {\n",
        "        Z(ctl);\n",
        "    }\n",
        "\n",
        "    if c != a {\n",
        "        X(tgt);\n",
        "    }\n",
        "}\n",
        "\n",
        "\n",
        "\n",
        "operation Cnot(actl : Bool, atgt : Bool): Unit {\n",
        "    use ctl = Qubit();\n",
        "    use tgt = Qubit();\n",
        "    use hlp = Qubit();\n",
        "\n",
        "    if actl {\n",
        "        X(ctl);\n",
        "    }\n",
        "\n",
        "    if atgt {\n",
        "        X(tgt);\n",
        "    }\n",
        "\n",
        "    LocalCnot(ctl, tgt, hlp);\n",
        "\n",
        "    let rctl = M(ctl);\n",
        "    let rtgt = M(tgt);\n",
        "\n",
        "\n",
        "    Message($\"Got ctl={rctl}, tgt={rtgt}\");\n",
        "}"
      ]
    },
    {
      "cell_type": "code",
      "execution_count": 11,
      "metadata": {
        "jupyter": {
          "outputs_hidden": false,
          "source_hidden": false
        },
        "nteract": {
          "transient": {
            "deleting": false
          }
        }
      },
      "outputs": [
        {
          "name": "stdout",
          "output_type": "stream",
          "text": [
            "Got ctl=One, tgt=Zero\n"
          ]
        },
        {
          "data": {
            "text/plain": [
              "()"
            ]
          },
          "execution_count": 11,
          "metadata": {},
          "output_type": "execute_result"
        }
      ],
      "source": [
        "Cnot.simulate(actl=True, atgt=True)\n"
      ]
    },
    {
      "cell_type": "code",
      "execution_count": 12,
      "metadata": {
        "jupyter": {
          "outputs_hidden": false,
          "source_hidden": false
        },
        "nteract": {
          "transient": {
            "deleting": false
          }
        }
      },
      "outputs": [
        {
          "name": "stderr",
          "output_type": "stream",
          "text": [
            "No such magic command %qir.\n",
            "Possibly similar magic commands:\n",
            "- %who\n",
            "- %config\n",
            "- %debug\n",
            "To get a list of all available magic commands, run %lsmagic, or visit https://docs.microsoft.com/qsharp/api/iqsharp-magic/.\n"
          ]
        },
        {
          "ename": "TypeError",
          "evalue": "'NoneType' object is not subscriptable",
          "output_type": "error",
          "traceback": [
            "\u001b[1;31m---------------------------------------------------------------------------\u001b[0m",
            "\u001b[1;31mTypeError\u001b[0m                                 Traceback (most recent call last)",
            "\u001b[1;32mc:\\Users\\baehl\\workspaces\\surface-code-compilation\\test\\helloWorld.ipynb Cell 4\u001b[0m in \u001b[0;36m<cell line: 1>\u001b[1;34m()\u001b[0m\n\u001b[1;32m----> <a href='vscode-notebook-cell:/c%3A/Users/baehl/workspaces/surface-code-compilation/test/helloWorld.ipynb#W3sZmlsZQ%3D%3D?line=0'>1</a>\u001b[0m qir \u001b[39m=\u001b[39m Cnot\u001b[39m.\u001b[39;49mas_qir()\n",
            "File \u001b[1;32mc:\\Users\\baehl\\anaconda3\\envs\\surface-code-compilation\\lib\\site-packages\\qsharp\\loader.py:134\u001b[0m, in \u001b[0;36mQSharpCallable.as_qir\u001b[1;34m(self)\u001b[0m\n\u001b[0;32m    129\u001b[0m \u001b[39m\"\"\"\u001b[39;00m\n\u001b[0;32m    130\u001b[0m \u001b[39mReturns the QIR representation of the callable,\u001b[39;00m\n\u001b[0;32m    131\u001b[0m \u001b[39massuming the callable is an entry point.\u001b[39;00m\n\u001b[0;32m    132\u001b[0m \u001b[39m\"\"\"\u001b[39;00m\n\u001b[0;32m    133\u001b[0m data \u001b[39m=\u001b[39m qsharp\u001b[39m.\u001b[39mclient\u001b[39m.\u001b[39mcompile_to_qir(\u001b[39mself\u001b[39m)\n\u001b[1;32m--> 134\u001b[0m \u001b[39mreturn\u001b[39;00m data[\u001b[39m'\u001b[39;49m\u001b[39mText\u001b[39;49m\u001b[39m'\u001b[39;49m]\n",
            "\u001b[1;31mTypeError\u001b[0m: 'NoneType' object is not subscriptable"
          ]
        }
      ],
      "source": [
        "qir = Cnot.as_qir()\n"
      ]
    },
    {
      "cell_type": "code",
      "execution_count": null,
      "metadata": {
        "jupyter": {
          "outputs_hidden": false,
          "source_hidden": false
        },
        "nteract": {
          "transient": {
            "deleting": false
          }
        }
      },
      "outputs": [
        {
          "name": "stderr",
          "output_type": "stream",
          "text": [
            "c:\\snippet_.qs(1,11): error QS2003: Expecting semicolon.\n",
            "c:\\snippet_.qs(1,1): error QS4004: Statements can only occur within a callable or specialization declaration.\n"
          ]
        }
      ],
      "source": [
        "print(qir)\n"
      ]
    }
  ],
  "metadata": {
    "kernel_info": {
      "name": "python3"
    },
    "kernelspec": {
      "display_name": "Python 3.9.13 ('surface-code-compilation')",
      "language": "python",
      "name": "python3"
    },
    "language_info": {
      "codemirror_mode": {
        "name": "ipython",
        "version": 3
      },
      "file_extension": ".py",
      "mimetype": "text/x-python",
      "name": "python",
      "nbconvert_exporter": "python",
      "pygments_lexer": "ipython3",
      "version": "3.9.13"
    },
    "nteract": {
      "version": "nteract-front-end@1.0.0"
    },
    "vscode": {
      "interpreter": {
        "hash": "4e834d15180079c4d33652ec0b58a2a54a89506de8b89262227e818db1360ee7"
      }
    }
  },
  "nbformat": 4,
  "nbformat_minor": 0
}
